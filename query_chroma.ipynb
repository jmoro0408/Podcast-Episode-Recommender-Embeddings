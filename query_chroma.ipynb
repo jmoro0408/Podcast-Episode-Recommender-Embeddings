{
 "cells": [
  {
   "cell_type": "code",
   "execution_count": 1,
   "metadata": {},
   "outputs": [],
   "source": [
    "import chromadb"
   ]
  },
  {
   "cell_type": "code",
   "execution_count": 2,
   "metadata": {},
   "outputs": [],
   "source": [
    "chroma_client = chromadb.PersistentClient(path=\"db\")\n",
    "collection = chroma_client.get_collection(name=\"episodes\")"
   ]
  },
  {
   "cell_type": "code",
   "execution_count": 3,
   "metadata": {},
   "outputs": [
    {
     "data": {
      "text/plain": [
       "1959"
      ]
     },
     "execution_count": 3,
     "metadata": {},
     "output_type": "execute_result"
    }
   ],
   "source": [
    "collection.count()"
   ]
  },
  {
   "cell_type": "code",
   "execution_count": 4,
   "metadata": {},
   "outputs": [
    {
     "name": "stdout",
     "output_type": "stream",
     "text": [
      "Short Stuff: Cellphones on Airplanes\n",
      "Short Stuff: Turbulence\n",
      "How Flight Attendants Work\n",
      "How Jet Lag Works\n",
      "Selects: How Blimps Work\n"
     ]
    }
   ],
   "source": [
    "test_chroma_query = 'Airplanes'\n",
    "N_RESULTS = 5\n",
    "results = collection.query(\n",
    "    query_texts=[test_chroma_query],\n",
    "     include=[\"metadatas\"],\n",
    "    n_results=N_RESULTS\n",
    ")\n",
    "for i in range(N_RESULTS):\n",
    "    print(results['metadatas'][0][i]['title'])"
   ]
  },
  {
   "cell_type": "code",
   "execution_count": 20,
   "metadata": {},
   "outputs": [
    {
     "name": "stdout",
     "output_type": "stream",
     "text": [
      "How Junk Food Works\n",
      "How Ultraprocessed Foods Work\n",
      "Is yogurt a miracle food?\n",
      "Short Stuff: The Man Who Didn’t Eat for a Year\n",
      "Should we have a fat tax?\n",
      "How Seed Banks Work\n",
      "A Lip-Smacking Look at Barbecue\n",
      "How Food Cravings Work\n",
      "Short Stuff: Olestra\n",
      "Short Stuff: Prison Food\n"
     ]
    }
   ],
   "source": [
    "test_chroma_query = 'Fast Food'\n",
    "N_RESULTS = 10\n",
    "results = collection.query(\n",
    "    query_texts=[test_chroma_query],\n",
    "     include=[\"metadatas\"],\n",
    "    n_results=N_RESULTS\n",
    ")\n",
    "for i in range(N_RESULTS):\n",
    "    print(results['metadatas'][0][i]['title'])"
   ]
  },
  {
   "cell_type": "code",
   "execution_count": 21,
   "metadata": {},
   "outputs": [
    {
     "name": "stdout",
     "output_type": "stream",
     "text": [
      "The Cleveland Torso Murders\n",
      "SYSK Selects: Is lethal injection humane?\n",
      "Short Stuff: Teresita Basa\n",
      "Is lethal injection humane?\n",
      "How Cannibalism Works\n",
      "Bruxism: Grinding Your Teeth Is the Pits\n",
      "How Ripperology Works\n",
      "The Kitty Genovese Story\n",
      "Is it legal to sterilize addicts?\n",
      "Uses of the Insanity Defense\n"
     ]
    }
   ],
   "source": [
    "test_chroma_query = 'Murder'\n",
    "N_RESULTS = 10\n",
    "results = collection.query(\n",
    "    query_texts=[test_chroma_query],\n",
    "     include=[\"metadatas\"],\n",
    "    n_results=N_RESULTS\n",
    ")\n",
    "for i in range(N_RESULTS):\n",
    "    print(results['metadatas'][0][i]['title'])"
   ]
  },
  {
   "cell_type": "code",
   "execution_count": null,
   "metadata": {},
   "outputs": [],
   "source": []
  }
 ],
 "metadata": {
  "kernelspec": {
   "display_name": ".venv",
   "language": "python",
   "name": "python3"
  },
  "language_info": {
   "codemirror_mode": {
    "name": "ipython",
    "version": 3
   },
   "file_extension": ".py",
   "mimetype": "text/x-python",
   "name": "python",
   "nbconvert_exporter": "python",
   "pygments_lexer": "ipython3",
   "version": "3.11.4"
  },
  "orig_nbformat": 4
 },
 "nbformat": 4,
 "nbformat_minor": 2
}
